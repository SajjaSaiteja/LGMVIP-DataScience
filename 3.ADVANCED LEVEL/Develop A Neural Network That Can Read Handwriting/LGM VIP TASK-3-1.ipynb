{
 "cells": [
  {
   "cell_type": "code",
   "execution_count": 3,
   "id": "2eccbb15",
   "metadata": {},
   "outputs": [
    {
     "data": {
      "text/plain": [
       "'\\nTensorFlow is an end-to-end open source platform for machine learning. \\nIt has a comprehensive, flexible ecosystem of tools, libraries and community resources that lets researchers push \\nthe state-of-the-art in ML and developers easily build and deploy ML powered applications.\\n\\nKeras is an API designed for human beings, not machines. Keras follows best practices for \\nreducing cognitive load: it offers consistent & simple APIs, it minimizes the number of user actions \\nrequired for common use cases, and it provides clear & actionable error messages.\\nIt also has extensive documentation and developer guides.\\n'"
      ]
     },
     "execution_count": 3,
     "metadata": {},
     "output_type": "execute_result"
    }
   ],
   "source": [
    "#Sai Teja Sajja\n",
    "\n",
    "#LGM_ADVANCED_LEVEL_TASK\n",
    "\n",
    "#TASK-3 : Develop A Neural Network That Can Read Handwriting\n",
    "\n",
    "'''\n",
    "TensorFlow is an end-to-end open source platform for machine learning. \n",
    "It has a comprehensive, flexible ecosystem of tools, libraries and community resources that lets researchers push \n",
    "the state-of-the-art in ML and developers easily build and deploy ML powered applications.\n",
    "\n",
    "Keras is an API designed for human beings, not machines. Keras follows best practices for \n",
    "reducing cognitive load: it offers consistent & simple APIs, it minimizes the number of user actions \n",
    "required for common use cases, and it provides clear & actionable error messages.\n",
    "It also has extensive documentation and developer guides.\n",
    "'''"
   ]
  },
  {
   "cell_type": "code",
   "execution_count": 4,
   "id": "5641d6e8",
   "metadata": {},
   "outputs": [
    {
     "name": "stdout",
     "output_type": "stream",
     "text": [
      "Requirement already satisfied: tensorflow in d:\\python\\lib\\site-packages (2.6.0)"
     ]
    },
    {
     "name": "stderr",
     "output_type": "stream",
     "text": [
      "WARNING: Ignoring invalid distribution -ip (d:\\python\\lib\\site-packages)\n",
      "WARNING: Ignoring invalid distribution -ip (d:\\python\\lib\\site-packages)\n",
      "WARNING: Ignoring invalid distribution -ip (d:\\python\\lib\\site-packages)\n",
      "    WARNING: Ignoring invalid distribution -ip (d:\\python\\lib\\site-packages)\n",
      "WARNING: Ignoring invalid distribution -ip (d:\\python\\lib\\site-packages)\n",
      "WARNING: Ignoring invalid distribution -ip (d:\\python\\lib\\site-packages)\n",
      "WARNING: Ignoring invalid distribution -ip (d:\\python\\lib\\site-packages)\n"
     ]
    },
    {
     "name": "stdout",
     "output_type": "stream",
     "text": [
      "\n",
      "Requirement already satisfied: google-pasta~=0.2 in d:\\python\\lib\\site-packages (from tensorflow) (0.2.0)\n",
      "Requirement already satisfied: astunparse~=1.6.3 in d:\\python\\lib\\site-packages (from tensorflow) (1.6.3)\n",
      "Collecting keras~=2.6\n",
      "  Using cached keras-2.6.0-py2.py3-none-any.whl (1.3 MB)\n",
      "Requirement already satisfied: protobuf>=3.9.2 in d:\\python\\lib\\site-packages (from tensorflow) (3.18.1)\n",
      "Requirement already satisfied: numpy~=1.19.2 in d:\\python\\lib\\site-packages (from tensorflow) (1.19.5)\n",
      "Requirement already satisfied: h5py~=3.1.0 in d:\\python\\lib\\site-packages (from tensorflow) (3.1.0)\n",
      "Requirement already satisfied: termcolor~=1.1.0 in d:\\python\\lib\\site-packages (from tensorflow) (1.1.0)\n",
      "Requirement already satisfied: gast==0.4.0 in d:\\python\\lib\\site-packages (from tensorflow) (0.4.0)\n",
      "Requirement already satisfied: absl-py~=0.10 in d:\\python\\lib\\site-packages (from tensorflow) (0.14.1)\n",
      "Requirement already satisfied: six~=1.15.0 in d:\\python\\lib\\site-packages (from tensorflow) (1.15.0)\n",
      "Requirement already satisfied: wheel~=0.35 in d:\\python\\lib\\site-packages (from tensorflow) (0.37.0)\n",
      "Requirement already satisfied: clang~=5.0 in d:\\python\\lib\\site-packages (from tensorflow) (5.0)\n",
      "Requirement already satisfied: typing-extensions~=3.7.4 in d:\\python\\lib\\site-packages (from tensorflow) (3.7.4.3)\n",
      "Requirement already satisfied: grpcio<2.0,>=1.37.0 in d:\\python\\lib\\site-packages (from tensorflow) (1.41.0)\n",
      "Requirement already satisfied: keras-preprocessing~=1.1.2 in d:\\python\\lib\\site-packages (from tensorflow) (1.1.2)\n",
      "Requirement already satisfied: wrapt~=1.12.1 in d:\\python\\lib\\site-packages (from tensorflow) (1.12.1)\n",
      "Requirement already satisfied: flatbuffers~=1.12.0 in d:\\python\\lib\\site-packages (from tensorflow) (1.12)\n",
      "Requirement already satisfied: tensorflow-estimator~=2.6 in d:\\python\\lib\\site-packages (from tensorflow) (2.6.0)\n",
      "Requirement already satisfied: opt-einsum~=3.3.0 in d:\\python\\lib\\site-packages (from tensorflow) (3.3.0)\n",
      "Requirement already satisfied: tensorboard~=2.6 in d:\\python\\lib\\site-packages (from tensorflow) (2.6.0)\n",
      "Requirement already satisfied: werkzeug>=0.11.15 in d:\\python\\lib\\site-packages (from tensorboard~=2.6->tensorflow) (2.0.2)\n",
      "Requirement already satisfied: google-auth-oauthlib<0.5,>=0.4.1 in d:\\python\\lib\\site-packages (from tensorboard~=2.6->tensorflow) (0.4.6)\n",
      "Requirement already satisfied: google-auth<2,>=1.6.3 in d:\\python\\lib\\site-packages (from tensorboard~=2.6->tensorflow) (1.35.0)\n",
      "Requirement already satisfied: setuptools>=41.0.0 in d:\\python\\lib\\site-packages (from tensorboard~=2.6->tensorflow) (56.0.0)\n",
      "Requirement already satisfied: requests<3,>=2.21.0 in d:\\python\\lib\\site-packages (from tensorboard~=2.6->tensorflow) (2.25.1)\n",
      "Requirement already satisfied: tensorboard-plugin-wit>=1.6.0 in d:\\python\\lib\\site-packages (from tensorboard~=2.6->tensorflow) (1.8.0)\n",
      "Requirement already satisfied: tensorboard-data-server<0.7.0,>=0.6.0 in d:\\python\\lib\\site-packages (from tensorboard~=2.6->tensorflow) (0.6.1)\n",
      "Requirement already satisfied: markdown>=2.6.8 in d:\\python\\lib\\site-packages (from tensorboard~=2.6->tensorflow) (3.3.4)\n",
      "Requirement already satisfied: cachetools<5.0,>=2.0.0 in d:\\python\\lib\\site-packages (from google-auth<2,>=1.6.3->tensorboard~=2.6->tensorflow) (4.2.4)\n",
      "Requirement already satisfied: rsa<5,>=3.1.4 in d:\\python\\lib\\site-packages (from google-auth<2,>=1.6.3->tensorboard~=2.6->tensorflow) (4.7.2)\n",
      "Requirement already satisfied: pyasn1-modules>=0.2.1 in d:\\python\\lib\\site-packages (from google-auth<2,>=1.6.3->tensorboard~=2.6->tensorflow) (0.2.8)\n",
      "Requirement already satisfied: requests-oauthlib>=0.7.0 in d:\\python\\lib\\site-packages (from google-auth-oauthlib<0.5,>=0.4.1->tensorboard~=2.6->tensorflow) (1.3.0)\n",
      "Requirement already satisfied: idna<3,>=2.5 in d:\\python\\lib\\site-packages (from requests<3,>=2.21.0->tensorboard~=2.6->tensorflow) (2.10)\n",
      "Requirement already satisfied: chardet<5,>=3.0.2 in d:\\python\\lib\\site-packages (from requests<3,>=2.21.0->tensorboard~=2.6->tensorflow) (3.0.4)\n",
      "Requirement already satisfied: certifi>=2017.4.17 in d:\\python\\lib\\site-packages (from requests<3,>=2.21.0->tensorboard~=2.6->tensorflow) (2021.5.30)\n",
      "Requirement already satisfied: urllib3<1.27,>=1.21.1 in d:\\python\\lib\\site-packages (from requests<3,>=2.21.0->tensorboard~=2.6->tensorflow) (1.26.6)\n",
      "Requirement already satisfied: pyasn1<0.5.0,>=0.4.6 in d:\\python\\lib\\site-packages (from pyasn1-modules>=0.2.1->google-auth<2,>=1.6.3->tensorboard~=2.6->tensorflow) (0.4.8)\n",
      "Requirement already satisfied: oauthlib>=3.0.0 in d:\\python\\lib\\site-packages (from requests-oauthlib>=0.7.0->google-auth-oauthlib<0.5,>=0.4.1->tensorboard~=2.6->tensorflow) (3.1.1)\n",
      "Installing collected packages: keras\n",
      "  Attempting uninstall: keras\n",
      "    Found existing installation: Keras 2.3.0\n",
      "    Uninstalling Keras-2.3.0:\n",
      "      Successfully uninstalled Keras-2.3.0\n",
      "Successfully installed keras-2.6.0\n"
     ]
    }
   ],
   "source": [
    "!pip install tensorflow"
   ]
  },
  {
   "cell_type": "code",
   "execution_count": 5,
   "id": "d55eecff",
   "metadata": {},
   "outputs": [
    {
     "name": "stdout",
     "output_type": "stream",
     "text": [
      "Collecting keras==2.3.0"
     ]
    },
    {
     "name": "stderr",
     "output_type": "stream",
     "text": [
      "WARNING: Ignoring invalid distribution -ip (d:\\python\\lib\\site-packages)\n",
      "WARNING: Ignoring invalid distribution -ip (d:\\python\\lib\\site-packages)\n",
      "WARNING: Ignoring invalid distribution -ip (d:\\python\\lib\\site-packages)\n",
      "    WARNING: Ignoring invalid distribution -ip (d:\\python\\lib\\site-packages)\n",
      "WARNING: Ignoring invalid distribution -ip (d:\\python\\lib\\site-packages)\n",
      "ERROR: pip's dependency resolver does not currently take into account all the packages that are installed. This behaviour is the source of the following dependency conflicts.\n",
      "tensorflow 2.6.0 requires keras~=2.6, but you have keras 2.3.0 which is incompatible.\n",
      "WARNING: Ignoring invalid distribution -ip (d:\\python\\lib\\site-packages)\n",
      "WARNING: Ignoring invalid distribution -ip (d:\\python\\lib\\site-packages)\n"
     ]
    },
    {
     "name": "stdout",
     "output_type": "stream",
     "text": [
      "\n",
      "  Using cached Keras-2.3.0-py2.py3-none-any.whl (377 kB)\n",
      "Requirement already satisfied: keras-preprocessing>=1.0.5 in d:\\python\\lib\\site-packages (from keras==2.3.0) (1.1.2)\n",
      "Requirement already satisfied: keras-applications>=1.0.6 in d:\\python\\lib\\site-packages (from keras==2.3.0) (1.0.8)\n",
      "Requirement already satisfied: h5py in d:\\python\\lib\\site-packages (from keras==2.3.0) (3.1.0)\n",
      "Requirement already satisfied: pyyaml in d:\\python\\lib\\site-packages (from keras==2.3.0) (5.4.1)\n",
      "Requirement already satisfied: six>=1.9.0 in d:\\python\\lib\\site-packages (from keras==2.3.0) (1.15.0)\n",
      "Requirement already satisfied: scipy>=0.14 in d:\\python\\lib\\site-packages (from keras==2.3.0) (1.7.1)\n",
      "Requirement already satisfied: numpy>=1.9.1 in d:\\python\\lib\\site-packages (from keras==2.3.0) (1.19.5)\n",
      "Installing collected packages: keras\n",
      "  Attempting uninstall: keras\n",
      "    Found existing installation: keras 2.6.0\n",
      "    Uninstalling keras-2.6.0:\n",
      "      Successfully uninstalled keras-2.6.0\n",
      "Successfully installed keras-2.3.0\n"
     ]
    }
   ],
   "source": [
    "!pip install keras==2.3.0"
   ]
  },
  {
   "cell_type": "code",
   "execution_count": 6,
   "id": "8dda9f3d",
   "metadata": {},
   "outputs": [],
   "source": [
    "#Importing packages"
   ]
  },
  {
   "cell_type": "code",
   "execution_count": 1,
   "id": "37468bd0",
   "metadata": {},
   "outputs": [],
   "source": [
    "# For manipulating the Image(represented in the form of array)\n",
    "import numpy as np\n",
    "\n",
    "#for building a model\n",
    "from tensorflow import keras\n",
    "from tensorflow.keras import layers\n",
    "from keras.models import Sequential\n",
    "from keras.layers import Dense\n",
    "from keras.layers import Dropout\n",
    "from keras.layers import Flatten\n",
    "from keras.layers import Conv2D\n",
    "from keras.layers import MaxPooling2D\n",
    "\n",
    "# MNIST dataset available in\n",
    "from keras.datasets import mnist\n",
    "\n",
    "# For visualizing images\n",
    "import matplotlib.pyplot as plt"
   ]
  },
  {
   "cell_type": "code",
   "execution_count": 8,
   "id": "ff58d667",
   "metadata": {},
   "outputs": [
    {
     "data": {
      "text/plain": [
       "'\\nThe MNIST dataset is an acronym that stands for the Modified National Institute of Standards and Technology dataset.\\nIt is a dataset of 60,000 small square 28×28 pixel grayscale images of handwritten single digits between 0 and 9.\\nThe task is to classify a given image of a handwritten digit into one of 10 classes representing integer values from 0 to 9,\\ninclusively.\\n\\n'"
      ]
     },
     "execution_count": 8,
     "metadata": {},
     "output_type": "execute_result"
    }
   ],
   "source": [
    "#Load Dataset\n",
    "\n",
    "'''\n",
    "The MNIST dataset is an acronym that stands for the Modified National Institute of Standards and Technology dataset.\n",
    "It is a dataset of 60,000 small square 28×28 pixel grayscale images of handwritten single digits between 0 and 9.\n",
    "The task is to classify a given image of a handwritten digit into one of 10 classes representing integer values from 0 to 9,\n",
    "inclusively.\n",
    "\n",
    "'''"
   ]
  },
  {
   "cell_type": "code",
   "execution_count": 2,
   "id": "604099ee",
   "metadata": {},
   "outputs": [],
   "source": [
    "(x_train, y_train), (x_test, y_test) = keras.datasets.mnist.load_data()"
   ]
  },
  {
   "cell_type": "code",
   "execution_count": 20,
   "id": "12cf9894",
   "metadata": {},
   "outputs": [
    {
     "data": {
      "image/png": "[encoded data removed]",
      "text/plain": [
       "<Figure size 432x288 with 1 Axes>"
      ]
     },
     "metadata": {
      "needs_background": "light"
     },
     "output_type": "display_data"
    },
    {
     "data": {
      "image/png": "[encoded data removed]",
      "text/plain": [
       "<Figure size 432x288 with 1 Axes>"
      ]
     },
     "metadata": {
      "needs_background": "light"
     },
     "output_type": "display_data"
    },
    {
     "data": {
      "image/png": "[encoded data removed]",
      "text/plain": [
       "<Figure size 432x288 with 1 Axes>"
      ]
     },
     "metadata": {
      "needs_background": "light"
     },
     "output_type": "display_data"
    }
   ],
   "source": [
    "# plot first 3 images\n",
    "test=x_train[100]\n",
    "for i in range(3):\n",
    "    plt.imshow(x_train[i], cmap='Purples')\n",
    "    plt.show()"
   ]
  },
  {
   "cell_type": "code",
   "execution_count": 4,
   "id": "d455d494",
   "metadata": {},
   "outputs": [],
   "source": [
    "#Prepare Data"
   ]
  },
  {
   "cell_type": "code",
   "execution_count": 5,
   "id": "dc0ca3f1",
   "metadata": {},
   "outputs": [
    {
     "name": "stdout",
     "output_type": "stream",
     "text": [
      "x_train shape: (60000, 28, 28, 1)\n",
      "60000 train samples\n",
      "10000 test samples\n"
     ]
    }
   ],
   "source": [
    "\n",
    "# Model / data parameters\n",
    "num_classes = 10\n",
    "input_shape = (28, 28, 1)\n",
    "\n",
    "# Scale images to the [0, 1] range\n",
    "x_train = x_train.astype(\"float32\") / 255\n",
    "x_test = x_test.astype(\"float32\") / 255\n",
    "# Make sure images have shape (28, 28, 1)\n",
    "x_train = np.expand_dims(x_train, -1)\n",
    "x_test = np.expand_dims(x_test, -1)\n",
    "print(\"x_train shape:\", x_train.shape)\n",
    "print(x_train.shape[0], \"train samples\")\n",
    "print(x_test.shape[0], \"test samples\")"
   ]
  },
  {
   "cell_type": "code",
   "execution_count": 6,
   "id": "dec811dc",
   "metadata": {},
   "outputs": [],
   "source": [
    "# convert class vectors to binary class matrices\n",
    "y_train = keras.utils.to_categorical(y_train, num_classes)\n",
    "y_test = keras.utils.to_categorical(y_test, num_classes)"
   ]
  },
  {
   "cell_type": "code",
   "execution_count": 7,
   "id": "b81525f3",
   "metadata": {},
   "outputs": [],
   "source": [
    "#Model Building"
   ]
  },
  {
   "cell_type": "code",
   "execution_count": 8,
   "id": "29489877",
   "metadata": {},
   "outputs": [
    {
     "name": "stdout",
     "output_type": "stream",
     "text": [
      "Model: \"sequential\"\n",
      "_________________________________________________________________\n",
      "Layer (type)                 Output Shape              Param #   \n",
      "=================================================================\n",
      "conv2d (Conv2D)              (None, 26, 26, 32)        320       \n",
      "_________________________________________________________________\n",
      "max_pooling2d (MaxPooling2D) (None, 13, 13, 32)        0         \n",
      "_________________________________________________________________\n",
      "dropout (Dropout)            (None, 13, 13, 32)        0         \n",
      "_________________________________________________________________\n",
      "conv2d_1 (Conv2D)            (None, 11, 11, 64)        18496     \n",
      "_________________________________________________________________\n",
      "max_pooling2d_1 (MaxPooling2 (None, 5, 5, 64)          0         \n",
      "_________________________________________________________________\n",
      "flatten (Flatten)            (None, 1600)              0         \n",
      "_________________________________________________________________\n",
      "dropout_1 (Dropout)          (None, 1600)              0         \n",
      "_________________________________________________________________\n",
      "dense (Dense)                (None, 10)                16010     \n",
      "=================================================================\n",
      "Total params: 34,826\n",
      "Trainable params: 34,826\n",
      "Non-trainable params: 0\n",
      "_________________________________________________________________\n"
     ]
    }
   ],
   "source": [
    "model=Sequential()\n",
    "model.add(Conv2D(32, (3,3), input_shape=(28,28,1),activation='relu'))\n",
    "model.add(MaxPooling2D(pool_size=(2,2)))\n",
    "model.add(Dropout(0.3)) # Dropout, one form of regularization\n",
    "model.add (Conv2D(64, kernel_size=(3, 3), activation=\"relu\"))\n",
    "model.add (MaxPooling2D(pool_size=(2, 2)))\n",
    "model.add(Flatten())\n",
    "model.add( Dropout(0.5))\n",
    "model.add(Dense(10, activation='softmax'))\n",
    "model.summary()"
   ]
  },
  {
   "cell_type": "code",
   "execution_count": 9,
   "id": "65a087be",
   "metadata": {},
   "outputs": [
    {
     "name": "stdout",
     "output_type": "stream",
     "text": [
      "Epoch 1/5\n",
      "422/422 [==============================] - 49s 114ms/step - loss: 0.4078 - accuracy: 0.8726 - val_loss: 0.0935 - val_accuracy: 0.9740\n",
      "Epoch 2/5\n",
      "422/422 [==============================] - 43s 102ms/step - loss: 0.1359 - accuracy: 0.9582 - val_loss: 0.0657 - val_accuracy: 0.9818\n",
      "Epoch 3/5\n",
      "422/422 [==============================] - 45s 107ms/step - loss: 0.1030 - accuracy: 0.9683 - val_loss: 0.0557 - val_accuracy: 0.9853\n",
      "Epoch 4/5\n",
      "422/422 [==============================] - 46s 109ms/step - loss: 0.0874 - accuracy: 0.9733 - val_loss: 0.0461 - val_accuracy: 0.9873\n",
      "Epoch 5/5\n",
      "422/422 [==============================] - 46s 109ms/step - loss: 0.0762 - accuracy: 0.9760 - val_loss: 0.0412 - val_accuracy: 0.9882\n"
     ]
    },
    {
     "data": {
      "text/plain": [
       "<keras.callbacks.History at 0x25dea2a5550>"
      ]
     },
     "execution_count": 9,
     "metadata": {},
     "output_type": "execute_result"
    }
   ],
   "source": [
    "#Batch Size of 128\n",
    "batch_size = 128\n",
    "\n",
    "#Total Epochs i am considering 5\n",
    "epochs = 5\n",
    "\n",
    "model.compile(loss=\"categorical_crossentropy\", optimizer=\"adam\", metrics=[\"accuracy\"])\n",
    "\n",
    "model.fit(x_train, y_train, batch_size=batch_size, epochs=epochs, validation_split=0.1)"
   ]
  },
  {
   "cell_type": "code",
   "execution_count": null,
   "id": "c80dcade",
   "metadata": {},
   "outputs": [],
   "source": [
    "#Model Testing"
   ]
  },
  {
   "cell_type": "code",
   "execution_count": 10,
   "id": "aa59d128",
   "metadata": {},
   "outputs": [
    {
     "name": "stdout",
     "output_type": "stream",
     "text": [
      "Test loss: 0.039795126765966415\n",
      "Test accuracy: 0.9865000247955322\n"
     ]
    }
   ],
   "source": [
    "score = model.evaluate(x_test, y_test, verbose=0)\n",
    "print(\"Test loss:\", score[0])\n",
    "print(\"Test accuracy:\", score[1])"
   ]
  },
  {
   "cell_type": "code",
   "execution_count": null,
   "id": "e913dcd3",
   "metadata": {},
   "outputs": [],
   "source": [
    "#Testing Model with User Input"
   ]
  },
  {
   "cell_type": "code",
   "execution_count": 23,
   "id": "1684a83f",
   "metadata": {},
   "outputs": [],
   "source": [
    "\n",
    "# Package used for loading images\n",
    "from keras.preprocessing.image import load_img\n",
    "\n",
    "# Used to convert image to array\n",
    "from keras.preprocessing.image import img_to_array\n",
    "\n",
    "def load_image(imagePath):\n",
    "    \n",
    "    # load the image\n",
    "    \n",
    "    img = load_img(imagePath, grayscale=True, target_size=(28, 28))\n",
    "    \n",
    "    # convert to array\n",
    "    plt.imshow(img,cmap=\"Purples\")\n",
    "    plt.title(\"The Actual Image\")\n",
    "    img = img_to_array(img)\n",
    "    \n",
    "    # reshape into a single sample \n",
    "    img = img.reshape(1, 28, 28, 1)\n",
    "    return img"
   ]
  },
  {
   "cell_type": "code",
   "execution_count": 24,
   "id": "e3ea1c94",
   "metadata": {},
   "outputs": [
    {
     "ename": "AttributeError",
     "evalue": "'Sequential' object has no attribute 'predict_classes'",
     "output_type": "error",
     "traceback": [
      "\u001b[1;31m---------------------------------------------------------------------------\u001b[0m",
      "\u001b[1;31mAttributeError\u001b[0m                            Traceback (most recent call last)",
      "\u001b[1;32m<ipython-input-24-c76e179734f8>\u001b[0m in \u001b[0;36m<module>\u001b[1;34m\u001b[0m\n\u001b[0;32m      1\u001b[0m \u001b[0mimg\u001b[0m \u001b[1;33m=\u001b[0m \u001b[0mload_image\u001b[0m\u001b[1;33m(\u001b[0m\u001b[1;34m'test.png'\u001b[0m\u001b[1;33m)\u001b[0m\u001b[1;33m\u001b[0m\u001b[1;33m\u001b[0m\u001b[0m\n\u001b[1;32m----> 2\u001b[1;33m \u001b[0mdigit\u001b[0m \u001b[1;33m=\u001b[0m \u001b[0mmodel\u001b[0m\u001b[1;33m.\u001b[0m\u001b[0mpredict_classes\u001b[0m\u001b[1;33m(\u001b[0m\u001b[0mimg\u001b[0m\u001b[1;33m)\u001b[0m\u001b[1;33m\u001b[0m\u001b[1;33m\u001b[0m\u001b[0m\n\u001b[0m\u001b[0;32m      3\u001b[0m \u001b[0mprint\u001b[0m\u001b[1;33m(\u001b[0m\u001b[1;34m\"Predicted Image is \"\u001b[0m\u001b[1;33m,\u001b[0m\u001b[0mdigit\u001b[0m\u001b[1;33m[\u001b[0m\u001b[1;36m0\u001b[0m\u001b[1;33m]\u001b[0m\u001b[1;33m)\u001b[0m\u001b[1;33m\u001b[0m\u001b[1;33m\u001b[0m\u001b[0m\n",
      "\u001b[1;31mAttributeError\u001b[0m: 'Sequential' object has no attribute 'predict_classes'"
     ]
    },
    {
     "data": {
      "image/png": "[encoded data removed]",
      "text/plain": [
       "<Figure size 432x288 with 1 Axes>"
      ]
     },
     "metadata": {
      "needs_background": "light"
     },
     "output_type": "display_data"
    }
   ],
   "source": [
    "img = load_image('test.png')\n",
    "digit = model.predict_classes(img)\n",
    "print(\"Predicted Image is \",digit[0])"
   ]
  },
  {
   "cell_type": "code",
   "execution_count": 19,
   "id": "dd9fbf11",
   "metadata": {},
   "outputs": [
    {
     "name": "stdout",
     "output_type": "stream",
     "text": [
      "Predicted Image is  0\n"
     ]
    },
    {
     "data": {
      "image/png": "[encoded data removed]",
      "text/plain": [
       "<Figure size 432x288 with 1 Axes>"
      ]
     },
     "metadata": {
      "needs_background": "light"
     },
     "output_type": "display_data"
    }
   ],
   "source": [
    "image_index = 10\n",
    "plt.imshow(x_test[image_index].reshape(28, 28),cmap='Purples')\n",
    "plt.title(\"The Acutual Image is \")\n",
    "predict = x_test[image_index].reshape(28,28)\n",
    "pred = model.predict(x_test[image_index].reshape(1, 28, 28, 1))\n",
    "print(\"Predicted Image is \",pred.argmax())"
   ]
  },
  {
   "cell_type": "code",
   "execution_count": null,
   "id": "59c97923",
   "metadata": {},
   "outputs": [],
   "source": []
  }
 ],
 "metadata": {
  "kernelspec": {
   "display_name": "Python 3",
   "language": "python",
   "name": "python3"
  },
  "language_info": {
   "codemirror_mode": {
    "name": "ipython",
    "version": 3
   },
   "file_extension": ".py",
   "mimetype": "text/x-python",
   "name": "python",
   "nbconvert_exporter": "python",
   "pygments_lexer": "ipython3",
   "version": "3.9.5"
  }
 },
 "nbformat": 4,
 "nbformat_minor": 5
}
